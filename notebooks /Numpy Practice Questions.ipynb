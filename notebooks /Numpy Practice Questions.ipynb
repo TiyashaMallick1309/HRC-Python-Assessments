{
 "cells": [
  {
   "attachments": {},
   "cell_type": "markdown",
   "id": "9c36bf01",
   "metadata": {},
   "source": [
    "# Numpy Questions"
   ]
  },
  {
   "attachments": {},
   "cell_type": "markdown",
   "id": "c56cafa3",
   "metadata": {},
   "source": [
    "### Q.1) Create a numpy array in python?"
   ]
  },
  {
   "cell_type": "code",
   "execution_count": 5,
   "id": "2f2036a0",
   "metadata": {},
   "outputs": [
    {
     "name": "stdout",
     "output_type": "stream",
     "text": [
      "Array: [1 2 3 4 5 6]\n"
     ]
    }
   ],
   "source": [
    "import numpy as np\n",
    "arr = np.array([1,2,3,4,5,6])\n",
    "print(\"Array:\",arr)"
   ]
  },
  {
   "attachments": {},
   "cell_type": "markdown",
   "id": "4403ddeb",
   "metadata": {},
   "source": [
    "### Q.2) Write a program that takes in a NumPy array and returns its mean?"
   ]
  },
  {
   "cell_type": "code",
   "execution_count": 8,
   "id": "5be951fa",
   "metadata": {},
   "outputs": [
    {
     "name": "stdout",
     "output_type": "stream",
     "text": [
      "Array: [1 2 3 4 5 6]\n",
      "Mean: 3.5\n"
     ]
    }
   ],
   "source": [
    "import numpy as np\n",
    "arr = np.array([1,2,3,4,5,6])\n",
    "print(\"Array:\",arr)\n",
    "print(\"Mean:\",np.mean(arr))"
   ]
  },
  {
   "attachments": {},
   "cell_type": "markdown",
   "id": "0da11a35",
   "metadata": {},
   "source": [
    "### Q.3) Write a program that takes in a NumPy array and returns its shape?"
   ]
  },
  {
   "cell_type": "code",
   "execution_count": 11,
   "id": "b96b9827",
   "metadata": {},
   "outputs": [
    {
     "name": "stdout",
     "output_type": "stream",
     "text": [
      "Array: [[1 2 3]\n",
      " [4 5 6]]\n",
      "Shape: (2, 3)\n"
     ]
    }
   ],
   "source": [
    "import numpy as np\n",
    "arr = np.array([[1,2,3],[4,5,6]])\n",
    "print(\"Array:\",arr)\n",
    "print(\"Shape:\",np.shape(arr))"
   ]
  },
  {
   "attachments": {},
   "cell_type": "markdown",
   "id": "0450351a",
   "metadata": {},
   "source": [
    "### Q.4) How can we convert a list into numpy array?"
   ]
  },
  {
   "cell_type": "code",
   "execution_count": 14,
   "id": "65b6f0ea",
   "metadata": {},
   "outputs": [
    {
     "name": "stdout",
     "output_type": "stream",
     "text": [
      "List: [1, 2, 3, 4, 5, 6]\n",
      "Array: [1 2 3 4 5 6]\n"
     ]
    }
   ],
   "source": [
    "import numpy as np\n",
    "l=[1,2,3,4,5,6]\n",
    "print(\"List:\",l)\n",
    "arr=np.array(l)\n",
    "print(\"Array:\",arr)"
   ]
  },
  {
   "attachments": {},
   "cell_type": "markdown",
   "id": "1ff0b146",
   "metadata": {},
   "source": [
    "### Q.5) Creates a NumPy array filled with zeros of 3X3 size?"
   ]
  },
  {
   "cell_type": "code",
   "execution_count": 18,
   "id": "6b9f3f3a",
   "metadata": {},
   "outputs": [
    {
     "name": "stdout",
     "output_type": "stream",
     "text": [
      "Array: [[0. 0. 0.]\n",
      " [0. 0. 0.]\n",
      " [0. 0. 0.]]\n"
     ]
    }
   ],
   "source": [
    "import numpy as np\n",
    "arr = np.zeros((3,3))\n",
    "print(\"Array:\",arr)"
   ]
  },
  {
   "attachments": {},
   "cell_type": "markdown",
   "id": "d4d7bb84",
   "metadata": {},
   "source": [
    "### Q.6)  Creates a NumPy array filled with ones of mXn size?"
   ]
  },
  {
   "cell_type": "code",
   "execution_count": 22,
   "id": "03bb09ca",
   "metadata": {},
   "outputs": [
    {
     "name": "stdout",
     "output_type": "stream",
     "text": [
      "m: 3, n: 6\n",
      "Array: [[1. 1. 1. 1. 1. 1.]\n",
      " [1. 1. 1. 1. 1. 1.]\n",
      " [1. 1. 1. 1. 1. 1.]]\n"
     ]
    }
   ],
   "source": [
    "import numpy as np\n",
    "import random as rn\n",
    "m,n=rn.randint(0,10),rn.randint(0,10)\n",
    "print(f'm: {m}, n: {n}')\n",
    "arr = np.ones((m,n))\n",
    "print(\"Array:\",arr)"
   ]
  },
  {
   "attachments": {},
   "cell_type": "markdown",
   "id": "b9e9f70f",
   "metadata": {},
   "source": [
    "### Q.7) Creates a NumPy array filled with random values between 0 and 1."
   ]
  },
  {
   "cell_type": "code",
   "execution_count": 26,
   "id": "d15fce79",
   "metadata": {},
   "outputs": [
    {
     "name": "stdout",
     "output_type": "stream",
     "text": [
      "m: 7, n: 2\n",
      "Array: [[0.46046268 0.64596566]\n",
      " [0.88196999 0.99659038]\n",
      " [0.33155638 0.11021305]\n",
      " [0.48960625 0.87660322]\n",
      " [0.13446221 0.27111099]\n",
      " [0.16025779 0.74412516]\n",
      " [0.87756029 0.98662471]]\n"
     ]
    }
   ],
   "source": [
    "import numpy as np\n",
    "m,n=rn.randint(0,10),rn.randint(0,10)\n",
    "print(f'm: {m}, n: {n}')\n",
    "arr = np.random.rand(m,n)\n",
    "print(\"Array:\",arr)"
   ]
  },
  {
   "attachments": {},
   "cell_type": "markdown",
   "id": "7e122e30",
   "metadata": {},
   "source": [
    "### Q.8)  Creates a NumPy array with a range of values?"
   ]
  },
  {
   "cell_type": "code",
   "execution_count": 28,
   "id": "edd4151d",
   "metadata": {},
   "outputs": [
    {
     "name": "stdout",
     "output_type": "stream",
     "text": [
      "start: 2, end: 15,step: 4\n",
      "Array: [ 2  6 10 14]\n"
     ]
    }
   ],
   "source": [
    "import numpy as np\n",
    "m,n,r=rn.randint(0,10),rn.randint(10,31),rn.randint(0,5)\n",
    "print(f'start: {m}, end: {n},step: {r}')\n",
    "arr = np.arange(m,n,r)\n",
    "print(\"Array:\",arr)"
   ]
  },
  {
   "attachments": {},
   "cell_type": "markdown",
   "id": "2e395c09",
   "metadata": {},
   "source": [
    "### Q.9) How to reshape a NumPy array to a new shape?"
   ]
  },
  {
   "cell_type": "code",
   "execution_count": 32,
   "id": "75d95229",
   "metadata": {},
   "outputs": [
    {
     "name": "stdout",
     "output_type": "stream",
     "text": [
      "Original array:\n",
      "[1 2 3 4 5 6 7 8 9]\n",
      "Reshaped array:\n",
      "[[1 2 3]\n",
      " [4 5 6]\n",
      " [7 8 9]]\n"
     ]
    }
   ],
   "source": [
    "import numpy as np\n",
    "arr = np.arange(1, 10)\n",
    "print(\"Original array:\")\n",
    "print(arr)\n",
    "new_arr = np.reshape(arr, (3,3))\n",
    "print(\"Reshaped array:\")\n",
    "print(new_arr)"
   ]
  },
  {
   "attachments": {},
   "cell_type": "markdown",
   "id": "1ca98a10",
   "metadata": {},
   "source": [
    "### Q.10) Computes the sum of all the elements in a NumPy array?"
   ]
  },
  {
   "cell_type": "code",
   "execution_count": 33,
   "id": "782d81a1",
   "metadata": {},
   "outputs": [
    {
     "name": "stdout",
     "output_type": "stream",
     "text": [
      "Array: [1 2 3 4 5 6]\n",
      "Sum: 21\n"
     ]
    }
   ],
   "source": [
    "import numpy as np\n",
    "arr = np.array([1,2,3,4,5,6])\n",
    "print(\"Array:\",arr)\n",
    "print(\"Sum:\",np.sum(arr))"
   ]
  },
  {
   "attachments": {},
   "cell_type": "markdown",
   "id": "bae33d69",
   "metadata": {},
   "source": [
    "### Q.11) Computes the standard deviation of all the elements in a NumPy array."
   ]
  },
  {
   "cell_type": "code",
   "execution_count": 37,
   "id": "30ae2558",
   "metadata": {},
   "outputs": [
    {
     "name": "stdout",
     "output_type": "stream",
     "text": [
      "Array: [1 2 3 4 5 6]\n",
      "Standard Deviation: 1.707825127659933\n"
     ]
    }
   ],
   "source": [
    "import numpy as np\n",
    "arr = np.array([1,2,3,4,5,6])\n",
    "print(\"Array:\",arr)\n",
    "print(\"Standard Deviation:\",np.std(arr))"
   ]
  },
  {
   "attachments": {},
   "cell_type": "markdown",
   "id": "0a80859a",
   "metadata": {},
   "source": [
    "### Q.12) Computes the dot product of two NumPy arrays.\n"
   ]
  },
  {
   "cell_type": "code",
   "execution_count": 39,
   "id": "a22a5f55",
   "metadata": {},
   "outputs": [
    {
     "name": "stdout",
     "output_type": "stream",
     "text": [
      "Array 1: [1 2 3 4 5 6]\n",
      "Array 2: [ 7  8  9 10 11 12]\n",
      "Dot Product: 217\n"
     ]
    }
   ],
   "source": [
    "import numpy as np\n",
    "arr1 = np.array([1,2,3,4,5,6])\n",
    "arr2=np.array([7,8,9,10,11,12])\n",
    "print(f'Array 1: {arr1}\\nArray 2: {arr2}')\n",
    "print(\"Dot Product:\",np.dot(arr1,arr2))"
   ]
  },
  {
   "attachments": {},
   "cell_type": "markdown",
   "id": "8fe9163f",
   "metadata": {},
   "source": [
    "### Q.13) Create a 2D NumPy array with shape (3, 3) containing all zeros?"
   ]
  },
  {
   "cell_type": "code",
   "execution_count": 40,
   "id": "da7b5d1d",
   "metadata": {},
   "outputs": [
    {
     "name": "stdout",
     "output_type": "stream",
     "text": [
      "Array: [[0. 0. 0.]\n",
      " [0. 0. 0.]\n",
      " [0. 0. 0.]]\n"
     ]
    }
   ],
   "source": [
    "import numpy as np\n",
    "arr = np.zeros((3,3))\n",
    "print(\"Array:\",arr)"
   ]
  },
  {
   "attachments": {},
   "cell_type": "markdown",
   "id": "7c657691",
   "metadata": {},
   "source": [
    "### Q.14) Create a 1D numpy array containing the values from -10 to 10, with a step of 2.\n"
   ]
  },
  {
   "cell_type": "code",
   "execution_count": 42,
   "id": "f74f074a",
   "metadata": {},
   "outputs": [
    {
     "name": "stdout",
     "output_type": "stream",
     "text": [
      "start: -10, end: 10, step: 2\n",
      "Array: [-10  -8  -6  -4  -2   0   2   4   6   8]\n"
     ]
    }
   ],
   "source": [
    "import numpy as np\n",
    "m,n,r=-10,10,2\n",
    "print(f'start: {m}, end: {n}, step: {r}')\n",
    "arr = np.arange(m,n,r)\n",
    "print(\"Array:\",arr)"
   ]
  },
  {
   "attachments": {},
   "cell_type": "markdown",
   "id": "c9d94d18",
   "metadata": {},
   "source": [
    "### Q.15) Create a 2D numpy array with shape (3, 3) containing random values between 0 and 1. Then, set all values in the first row to 0."
   ]
  },
  {
   "cell_type": "code",
   "execution_count": 49,
   "id": "c1078133",
   "metadata": {},
   "outputs": [
    {
     "name": "stdout",
     "output_type": "stream",
     "text": [
      "Array: [[0.29111962 0.00596916 0.066732  ]\n",
      " [0.12937335 0.40321775 0.34842048]\n",
      " [0.68225634 0.64732921 0.66508253]]\n",
      "\n",
      "Array with 1st row as 0:\n",
      "[[0.         0.         0.        ]\n",
      " [0.12937335 0.40321775 0.34842048]\n",
      " [0.68225634 0.64732921 0.66508253]]\n"
     ]
    }
   ],
   "source": [
    "import numpy as np\n",
    "arr = np.random.rand(3,3)\n",
    "print(\"Array:\",arr)\n",
    "print(\"\\nArray with 1st row as 0:\")\n",
    "arr[0]=0\n",
    "print(arr)"
   ]
  },
  {
   "attachments": {},
   "cell_type": "markdown",
   "id": "07124584",
   "metadata": {},
   "source": [
    "### Q.16) Create a 1D numpy array containing the values from 0 to 9. Then, create a new array containing the values squared."
   ]
  },
  {
   "cell_type": "code",
   "execution_count": 52,
   "id": "cc0c1285",
   "metadata": {},
   "outputs": [
    {
     "name": "stdout",
     "output_type": "stream",
     "text": [
      "Array: [0 1 2 3 4 5 6 7 8 9]\n",
      "Square Array: [ 0  1  4  9 16 25 36 49 64 81]\n"
     ]
    }
   ],
   "source": [
    "import numpy as np\n",
    "arr=np.array([0,1,2,3,4,5,6,7,8,9])\n",
    "sq_arr=np.square(arr)\n",
    "print(f'Array: {arr}\\nSquare Array: {sq_arr}')"
   ]
  },
  {
   "attachments": {},
   "cell_type": "markdown",
   "id": "fad556fd",
   "metadata": {},
   "source": [
    "### Q.17) Create a 1D numpy array containing the values from 1 to 10. Then, extract all even values from the array."
   ]
  },
  {
   "cell_type": "code",
   "execution_count": 54,
   "id": "198a0c40",
   "metadata": {},
   "outputs": [
    {
     "name": "stdout",
     "output_type": "stream",
     "text": [
      "Array: [ 1  2  3  4  5  6  7  8  9 10]\n",
      "1\n",
      "2\n",
      "3\n",
      "4\n",
      "5\n",
      "6\n",
      "7\n",
      "8\n",
      "9\n",
      "10\n"
     ]
    }
   ],
   "source": [
    "import numpy as np\n",
    "arr=np.array([1,2,3,4,5,6,7,8,9,10])\n",
    "print(f'Array: {arr}')\n",
    "for i in arr:\n",
    "    print(i)"
   ]
  },
  {
   "attachments": {},
   "cell_type": "markdown",
   "id": "dd475e4e",
   "metadata": {},
   "source": [
    "### Q.18) Create a 1D numpy array containing the values from 1 to 10. Then, extract all odd values from the array."
   ]
  },
  {
   "cell_type": "code",
   "execution_count": 55,
   "id": "4efd31ab",
   "metadata": {},
   "outputs": [
    {
     "name": "stdout",
     "output_type": "stream",
     "text": [
      "Array: [ 1  2  3  4  5  6  7  8  9 10]\n",
      "1\n",
      "3\n",
      "5\n",
      "7\n",
      "9\n"
     ]
    }
   ],
   "source": [
    "import numpy as np\n",
    "arr=np.array([1,2,3,4,5,6,7,8,9,10])\n",
    "print(f'Array: {arr}')\n",
    "for i in arr:\n",
    "    if (i%2!=0):\n",
    "          print(i)"
   ]
  },
  {
   "attachments": {},
   "cell_type": "markdown",
   "id": "9abb6630",
   "metadata": {},
   "source": [
    "### Q.19)Create a 2D numpy array with shape (3, 3) containing random values between 0 and 1. Then, compute the mean of each row."
   ]
  },
  {
   "cell_type": "code",
   "execution_count": 56,
   "id": "d25cc833",
   "metadata": {},
   "outputs": [
    {
     "name": "stdout",
     "output_type": "stream",
     "text": [
      "Array: [[0.73004107 0.09441404 0.82969614]\n",
      " [0.52209878 0.67352678 0.427532  ]\n",
      " [0.48038314 0.06400301 0.99704194]]\n",
      "Mean of 1st row: 0.5513837498661613, 2nd row: 0.5410525199088555, 3rd row: 0.5138093628035331\n"
     ]
    }
   ],
   "source": [
    "import numpy as np\n",
    "arr = np.random.rand(3,3)\n",
    "print(\"Array:\",arr)\n",
    "print(f'Mean of 1st row: {np.mean(arr[0])}, 2nd row: {np.mean(arr[1])}, 3rd row: {np.mean(arr[2])}')"
   ]
  },
  {
   "attachments": {},
   "cell_type": "markdown",
   "id": "f7c42cee",
   "metadata": {},
   "source": [
    "### Q.20) How to split numpy array into 3 parts?\n",
    "#### arr = np.array([1, 2, 3, 4, 5, 6])"
   ]
  },
  {
   "cell_type": "code",
   "execution_count": 58,
   "id": "8aa2b236",
   "metadata": {},
   "outputs": [
    {
     "name": "stdout",
     "output_type": "stream",
     "text": [
      "[array([1, 2]), array([3, 4]), array([5, 6])]\n"
     ]
    }
   ],
   "source": [
    "import numpy as np\n",
    "arr=np.array([1,2,3,4,5,6])\n",
    "print(np.array_split(arr,3))"
   ]
  }
 ],
 "metadata": {
  "kernelspec": {
   "display_name": "Python 3 (ipykernel)",
   "language": "python",
   "name": "python3"
  },
  "language_info": {
   "codemirror_mode": {
    "name": "ipython",
    "version": 3
   },
   "file_extension": ".py",
   "mimetype": "text/x-python",
   "name": "python",
   "nbconvert_exporter": "python",
   "pygments_lexer": "ipython3",
   "version": "3.10.11"
  }
 },
 "nbformat": 4,
 "nbformat_minor": 5
}
