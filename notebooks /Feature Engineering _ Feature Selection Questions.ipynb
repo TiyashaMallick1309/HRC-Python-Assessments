{
 "cells": [
  {
   "cell_type": "markdown",
   "id": "1f21cd4e",
   "metadata": {},
   "source": [
    "# Feature Engineering & Feature Selection Questions"
   ]
  },
  {
   "cell_type": "markdown",
   "id": "07d6bf56",
   "metadata": {},
   "source": [
    "### Based on computersales datset answer the below questions"
   ]
  },
  {
   "cell_type": "code",
   "execution_count": null,
   "id": "7686899b",
   "metadata": {},
   "outputs": [],
   "source": [
    "import pandas as pd\n",
    "import seaborn as sns\n",
    "\n",
    "import warnings\n",
    "warnings.filterwarnings('ignore')"
   ]
  },
  {
   "cell_type": "code",
   "execution_count": null,
   "id": "c9800ddd",
   "metadata": {},
   "outputs": [],
   "source": [
    "df = pd.read_csv('computersales.csv')\n",
    "df.head()"
   ]
  },
  {
   "cell_type": "markdown",
   "id": "a6be9774",
   "metadata": {},
   "source": [
    "### Q.1) Create a new feature i.e original_price that is the difference between two existing features (Sale Price and Profit)?"
   ]
  },
  {
   "cell_type": "code",
   "execution_count": null,
   "id": "f61e9013",
   "metadata": {},
   "outputs": [],
   "source": [
    "# Sale Price - Profit\n"
   ]
  },
  {
   "cell_type": "markdown",
   "id": "fd661853",
   "metadata": {},
   "source": [
    "### Q.2) Create a new binary feature to indicate whether or not a sale was made via website?"
   ]
  },
  {
   "cell_type": "code",
   "execution_count": null,
   "id": "07b205ad",
   "metadata": {},
   "outputs": [],
   "source": []
  },
  {
   "cell_type": "markdown",
   "id": "a82e3044",
   "metadata": {},
   "source": [
    "### Q.3) Write a code to perform one hot encoding on Product Type column of computersales dataset.\n"
   ]
  },
  {
   "cell_type": "code",
   "execution_count": null,
   "id": "fe88e73e",
   "metadata": {},
   "outputs": [],
   "source": [
    "# performing one hot encoding using pandas get_dummies() function\n",
    "\n"
   ]
  },
  {
   "cell_type": "markdown",
   "id": "f50b9e7f",
   "metadata": {},
   "source": [
    "### Q.4) Write a code to perform label encoding on State column of computersales dataset."
   ]
  },
  {
   "cell_type": "code",
   "execution_count": null,
   "id": "c80ef684",
   "metadata": {},
   "outputs": [],
   "source": [
    "# performing label encoding \n",
    "from sklearn import preprocessing\n",
    "\n"
   ]
  },
  {
   "cell_type": "markdown",
   "id": "b2fd02c0",
   "metadata": {},
   "source": [
    "### Q.5) Write a code to perform ordinal encoding on Lead column?"
   ]
  },
  {
   "cell_type": "code",
   "execution_count": null,
   "id": "fd794456",
   "metadata": {},
   "outputs": [],
   "source": [
    "# performing ordinal encoding \n",
    "from sklearn.preprocessing import OrdinalEncoder\n",
    "\n",
    "\n"
   ]
  },
  {
   "cell_type": "markdown",
   "id": "f40c31c1",
   "metadata": {},
   "source": [
    "### Q.6)  Create a new feature Total_contact_profit to capture the total profit made by each Contact i.e customer in the dataset and store in a new df?"
   ]
  },
  {
   "cell_type": "code",
   "execution_count": null,
   "id": "9f236ef4",
   "metadata": {},
   "outputs": [],
   "source": []
  },
  {
   "cell_type": "markdown",
   "id": "7d3194be",
   "metadata": {},
   "source": []
  },
  {
   "cell_type": "markdown",
   "id": "30de099c",
   "metadata": {},
   "source": [
    "### Q.7) Perform feature scaling on a numerical feature Age using min-max normalization?"
   ]
  },
  {
   "cell_type": "code",
   "execution_count": null,
   "id": "b3e3f199",
   "metadata": {},
   "outputs": [],
   "source": [
    "from sklearn.preprocessing import MinMaxScaler\n",
    "\n"
   ]
  },
  {
   "cell_type": "markdown",
   "id": "4b8a9afe",
   "metadata": {},
   "source": [
    "### Q.8)  Given a Pandas DataFrame with a \"date\" column, how can you extract the year, month, and day as separate columns?"
   ]
  },
  {
   "cell_type": "code",
   "execution_count": null,
   "id": "5ef74a5c",
   "metadata": {},
   "outputs": [],
   "source": [
    "import pandas as pd\n",
    "\n",
    "df = pd.DataFrame({'date': ['2022-05-15', '2022-05-16', '2022-05-17','2022-05-18', '2022-05-19', '2022-05-20']})\n",
    "\n",
    "df['date'] = pd.to_datetime(df['date'])\n",
    "\n",
    "df"
   ]
  },
  {
   "cell_type": "markdown",
   "id": "014fcb9b",
   "metadata": {},
   "source": [
    "### Solution:-"
   ]
  },
  {
   "cell_type": "code",
   "execution_count": null,
   "id": "58085769",
   "metadata": {},
   "outputs": [],
   "source": [
    "# extracting year,moth & day feature\n"
   ]
  },
  {
   "cell_type": "markdown",
   "id": "19ab13cb",
   "metadata": {},
   "source": [
    "### Q.9) Given a Pandas DataFrame with a \"text\" column, how can you create a new column that contains the number of words in each text entry?"
   ]
  },
  {
   "cell_type": "code",
   "execution_count": null,
   "id": "346dcd02",
   "metadata": {},
   "outputs": [],
   "source": [
    "import pandas as pd\n",
    "\n",
    "df = pd.DataFrame({'text': ['This is a sample sentence.', 'Another sentence.', 'And a third.']})"
   ]
  },
  {
   "cell_type": "markdown",
   "id": "be22bea3",
   "metadata": {},
   "source": [
    "### Solution:-"
   ]
  },
  {
   "cell_type": "code",
   "execution_count": null,
   "id": "c3618c16",
   "metadata": {
    "scrolled": true
   },
   "outputs": [],
   "source": []
  },
  {
   "cell_type": "markdown",
   "id": "df4866ef",
   "metadata": {},
   "source": [
    "### Q.10) Perform encoding using pandas get_dummies() function?"
   ]
  },
  {
   "cell_type": "code",
   "execution_count": null,
   "id": "b7a2d438",
   "metadata": {},
   "outputs": [],
   "source": [
    "# Given dataframe\n",
    "\n",
    "import pandas as pd\n",
    "\n",
    "\n",
    "df = pd.DataFrame({'color': ['red', 'blue', 'green', 'red', 'green']})\n",
    "df"
   ]
  },
  {
   "cell_type": "markdown",
   "id": "2037b446",
   "metadata": {},
   "source": [
    "### Solution:-"
   ]
  },
  {
   "cell_type": "code",
   "execution_count": null,
   "id": "bb8cea9d",
   "metadata": {},
   "outputs": [],
   "source": []
  },
  {
   "cell_type": "markdown",
   "id": "422914ab",
   "metadata": {},
   "source": [
    "### Q.11) Perform correlation-based feature selection using Pearson correlation on  iris dataset?"
   ]
  },
  {
   "cell_type": "code",
   "execution_count": null,
   "id": "fd1b914b",
   "metadata": {},
   "outputs": [],
   "source": [
    "from sklearn.datasets import load_iris\n",
    "import pandas as pd\n",
    "\n",
    "# Load the iris dataset\n",
    "iris = sns.load_dataset('iris')"
   ]
  },
  {
   "cell_type": "markdown",
   "id": "dac61d7c",
   "metadata": {},
   "source": [
    "### Solution:-"
   ]
  },
  {
   "cell_type": "code",
   "execution_count": null,
   "id": "a5d9d2a1",
   "metadata": {
    "scrolled": true
   },
   "outputs": [],
   "source": [
    "# Calculate the Pearson correlation coefficients\n"
   ]
  }
 ],
 "metadata": {
  "kernelspec": {
   "display_name": "Python 3 (ipykernel)",
   "language": "python",
   "name": "python3"
  },
  "language_info": {
   "codemirror_mode": {
    "name": "ipython",
    "version": 3
   },
   "file_extension": ".py",
   "mimetype": "text/x-python",
   "name": "python",
   "nbconvert_exporter": "python",
   "pygments_lexer": "ipython3",
   "version": "3.9.13"
  }
 },
 "nbformat": 4,
 "nbformat_minor": 5
}
