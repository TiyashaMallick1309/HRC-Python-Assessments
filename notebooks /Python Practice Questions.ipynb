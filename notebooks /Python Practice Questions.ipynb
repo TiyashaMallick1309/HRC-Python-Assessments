{
 "cells": [
  {
   "attachments": {},
   "cell_type": "markdown",
   "id": "e4366397",
   "metadata": {},
   "source": [
    "# Python Practice Questions"
   ]
  },
  {
   "attachments": {},
   "cell_type": "markdown",
   "id": "b0a93e56",
   "metadata": {},
   "source": [
    "### Q.1) Write a python program to check if a number is positive , negative or zero?"
   ]
  },
  {
   "cell_type": "code",
   "execution_count": 53,
   "id": "50e34c06",
   "metadata": {},
   "outputs": [
    {
     "name": "stdout",
     "output_type": "stream",
     "text": [
      "Number: -71\n",
      "The number is Negative\n"
     ]
    }
   ],
   "source": [
    "import random as rn\n",
    "num=rn.randrange(-100,100)\n",
    "print(\"Number:\",num)\n",
    "if (num==0):\n",
    "    print(\"The number is Zero\")\n",
    "elif (num>0):\n",
    "    print(\"The number is Positive\")\n",
    "else:\n",
    "    print(\"The number is Negative\")"
   ]
  },
  {
   "attachments": {},
   "cell_type": "markdown",
   "id": "0ef0519e",
   "metadata": {},
   "source": [
    "### Q.2) Write a python program to check if a number is even or odd?"
   ]
  },
  {
   "cell_type": "code",
   "execution_count": 54,
   "id": "ddc82b05",
   "metadata": {},
   "outputs": [
    {
     "name": "stdout",
     "output_type": "stream",
     "text": [
      "Number: 36\n",
      "The number is Even\n"
     ]
    }
   ],
   "source": [
    "import random as rn\n",
    "num=rn.randrange(0,101)\n",
    "print(\"Number:\",num)\n",
    "if (num%2==0):\n",
    "    print(\"The number is Even\")\n",
    "else:\n",
    "    print(\"The number is Odd\")"
   ]
  },
  {
   "attachments": {},
   "cell_type": "markdown",
   "id": "d872adf8",
   "metadata": {},
   "source": [
    "### Q.3) Write a python program to check prime number?"
   ]
  },
  {
   "cell_type": "code",
   "execution_count": 55,
   "id": "000667b9",
   "metadata": {},
   "outputs": [
    {
     "name": "stdout",
     "output_type": "stream",
     "text": [
      "Number: 20\n",
      "The number is Not Prime\n"
     ]
    }
   ],
   "source": [
    "import random as rn\n",
    "num=rn.randrange(0,101)\n",
    "print(\"Number:\",num)\n",
    "count=0\n",
    "if (num<2):\n",
    "    print()\n",
    "for i in range (2,num):\n",
    "    if (num%i==0):\n",
    "        print(\"The number is Not Prime\")\n",
    "        count+=1\n",
    "        break\n",
    "if (count==0):\n",
    "    print(\"The number is Prime\")"
   ]
  },
  {
   "attachments": {},
   "cell_type": "markdown",
   "id": "f9c31eed",
   "metadata": {},
   "source": [
    "### Q.4) Write a python program to calculate the factorial of a number using function?"
   ]
  },
  {
   "cell_type": "code",
   "execution_count": 52,
   "id": "8633ba39",
   "metadata": {},
   "outputs": [
    {
     "name": "stdout",
     "output_type": "stream",
     "text": [
      "Number: 2\n",
      "Factorial: 2\n"
     ]
    }
   ],
   "source": [
    "import random as rn\n",
    "n=rn.randrange(0,11)\n",
    "print(\"Number:\",n)\n",
    "fact=1\n",
    "for i in range(1,n+1):\n",
    "    fact=fact*i\n",
    "print(\"Factorial:\",fact)"
   ]
  },
  {
   "attachments": {},
   "cell_type": "markdown",
   "id": "181d0e68",
   "metadata": {},
   "source": [
    "### Q.5) Write a python program to find the sum of all even numbers in a list?\n",
    "#### Example:-\n",
    "#### nums = [1,2,3,4,5,6,7,8,9,10]\n",
    "#### sum = 30"
   ]
  },
  {
   "cell_type": "code",
   "execution_count": 57,
   "id": "021c08ab",
   "metadata": {},
   "outputs": [
    {
     "name": "stdout",
     "output_type": "stream",
     "text": [
      "List: [3, 6, 2, 3, 2, 9, 1, 7, 6, 10]\n",
      "Sum of all even numbers: 26\n"
     ]
    }
   ],
   "source": [
    "import random as rn\n",
    "nums=[]\n",
    "sum=0\n",
    "for i in range(0,rn.randrange(1,11)):\n",
    "    nums.append(rn.randrange(1,11))\n",
    "    if (nums[i]%2==0):\n",
    "        sum=sum+nums[i]\n",
    "print(\"List:\",nums)\n",
    "print(\"Sum of all even numbers:\",sum)\n",
    "\n"
   ]
  },
  {
   "attachments": {},
   "cell_type": "markdown",
   "id": "f90a7700",
   "metadata": {},
   "source": [
    "### Q.6) Write a python program to reverse a number?"
   ]
  },
  {
   "cell_type": "code",
   "execution_count": 61,
   "id": "2c343332",
   "metadata": {},
   "outputs": [
    {
     "name": "stdout",
     "output_type": "stream",
     "text": [
      "Number: 89\n",
      "Reverse: 98\n"
     ]
    }
   ],
   "source": [
    "import random as rn\n",
    "n=rn.randrange(0,101)\n",
    "print(\"Number:\",n)\n",
    "print(\"Reverse:\",str(n)[::-1])"
   ]
  },
  {
   "attachments": {},
   "cell_type": "markdown",
   "id": "5c3fa743",
   "metadata": {},
   "source": [
    "### Q.7) Write a python program to reverse a string?"
   ]
  },
  {
   "cell_type": "code",
   "execution_count": 62,
   "id": "3a7e91d8",
   "metadata": {},
   "outputs": [
    {
     "name": "stdout",
     "output_type": "stream",
     "text": [
      "String: tiyasha\n",
      "Reverse: ahsayit\n"
     ]
    }
   ],
   "source": [
    "s=input(\"Enter string:\")\n",
    "print(\"String:\",s)\n",
    "print(\"Reverse:\",s[::-1])"
   ]
  },
  {
   "attachments": {},
   "cell_type": "markdown",
   "id": "0f2d5f96",
   "metadata": {},
   "source": [
    "### Q.8) Write a python program to check whether a string is a palindrome or not?"
   ]
  },
  {
   "cell_type": "code",
   "execution_count": 65,
   "id": "986f6b49",
   "metadata": {},
   "outputs": [
    {
     "name": "stdout",
     "output_type": "stream",
     "text": [
      "String: ama\n",
      "The string is Palindrome\n"
     ]
    }
   ],
   "source": [
    "s=input(\"Enter string:\")\n",
    "print(\"String:\",s)\n",
    "if (s[:]==s[::-1]):\n",
    "    print(\"The string is Palindrome\")\n",
    "else:\n",
    "    print(\"The string is Not Palindrome\")"
   ]
  },
  {
   "attachments": {},
   "cell_type": "markdown",
   "id": "9f8ff014",
   "metadata": {},
   "source": [
    "### Q.9) Write a python program to count the number of vowels in a string?"
   ]
  },
  {
   "cell_type": "code",
   "execution_count": 66,
   "id": "6309cc50",
   "metadata": {},
   "outputs": [
    {
     "name": "stdout",
     "output_type": "stream",
     "text": [
      "String: tiyasha\n",
      "vowel count: 3\n"
     ]
    }
   ],
   "source": [
    "s=input(\"Enter string:\")\n",
    "print(\"String:\",s)\n",
    "vowel=0\n",
    "for i in s:\n",
    "    if (i == 'a'or i =='e'or i =='i' or i =='o' or i =='u'):\n",
    "        vowel+=1\n",
    "print(f'vowel count: {vowel}')"
   ]
  },
  {
   "attachments": {},
   "cell_type": "markdown",
   "id": "5e065fa0",
   "metadata": {},
   "source": [
    "### Q.10) Write a program to convert a string to uppercase using built-in function?"
   ]
  },
  {
   "cell_type": "code",
   "execution_count": 67,
   "id": "8764060f",
   "metadata": {},
   "outputs": [
    {
     "name": "stdout",
     "output_type": "stream",
     "text": [
      "String: tiyasha\n",
      "Upper case: TIYASHA\n"
     ]
    }
   ],
   "source": [
    "s=input(\"Enter string:\")\n",
    "print(\"String:\",s)\n",
    "print(\"Upper case:\",s.upper())"
   ]
  },
  {
   "attachments": {},
   "cell_type": "markdown",
   "id": "d29213f1",
   "metadata": {},
   "source": [
    "### Q.11) Write a program to find the length of a list using the built-in function?"
   ]
  },
  {
   "cell_type": "code",
   "execution_count": 16,
   "id": "6b9e390a",
   "metadata": {},
   "outputs": [
    {
     "name": "stdout",
     "output_type": "stream",
     "text": [
      "length: 10\n",
      "list:[14, 79, 65, 24, 35, 55, 30, 15, 94, 22]\n"
     ]
    }
   ],
   "source": [
    "import random as rn\n",
    "n=[]\n",
    "for i in range(0,rn.randrange(1,11)):\n",
    "    n.append(rn.randrange(1,101))\n",
    "print(f'length: {len(n)}\\nlist:{n}')\n"
   ]
  },
  {
   "attachments": {},
   "cell_type": "markdown",
   "id": "12a22553",
   "metadata": {},
   "source": [
    "### Q.12) Write a python program to find the product of all the elements in a list?"
   ]
  },
  {
   "cell_type": "code",
   "execution_count": 72,
   "id": "13587e1d",
   "metadata": {},
   "outputs": [
    {
     "name": "stdout",
     "output_type": "stream",
     "text": [
      "list: [1, 10, 4, 10, 8, 6, 9, 9, 8] \n",
      "product: 12441600\n"
     ]
    }
   ],
   "source": [
    "import random as rn\n",
    "n=[]\n",
    "prod=1\n",
    "for i in range(0,rn.randrange(1,11)):\n",
    "    n.append(rn.randrange(1,11))\n",
    "    prod=prod*n[i]\n",
    "print(f'list: {n} \\nproduct: {prod}')"
   ]
  },
  {
   "attachments": {},
   "cell_type": "markdown",
   "id": "e56eadb3",
   "metadata": {},
   "source": [
    "### Q.13) Write a python program to remove duplicate elements from a list?"
   ]
  },
  {
   "cell_type": "code",
   "execution_count": 91,
   "id": "685f96fe",
   "metadata": {},
   "outputs": [
    {
     "name": "stdout",
     "output_type": "stream",
     "text": [
      "Original list: [50, 3, 100, 51, 45, 20, 72, 99, 72]\n",
      "length: 9\n",
      "Unique numbers: [50, 3, 100, 51, 45, 20, 72, 99]\n",
      "length: 8\n"
     ]
    }
   ],
   "source": [
    "import random as rn\n",
    "n=[]\n",
    "repeat=[]\n",
    "for i in range(0,rn.randrange(1,31)):\n",
    "    n.append(rn.randrange(1,101))\n",
    "print(f'Original list: {n}\\nlength: {len(n)}')\n",
    "for i in range(0,len(n)):\n",
    "    if (n[i] not in repeat):\n",
    "        repeat.append(n[i])\n",
    "print(f'Unique numbers: {repeat}\\nlength: {len(r)}')"
   ]
  },
  {
   "attachments": {},
   "cell_type": "markdown",
   "id": "6355b8b8",
   "metadata": {},
   "source": [
    "### Q.14) Write a python program to find the second largest element in a list?"
   ]
  },
  {
   "cell_type": "code",
   "execution_count": 68,
   "id": "6ed7f326",
   "metadata": {},
   "outputs": [
    {
     "name": "stdout",
     "output_type": "stream",
     "text": [
      "List: [94, 92, 91, 66, 64, 20, 14]\n",
      "Second largest element: [92]\n"
     ]
    }
   ],
   "source": [
    "import random as rn\n",
    "n=[]\n",
    "for i in range(0,rn.randrange(1,11)):\n",
    "    n.append(rn.randrange(1,101))\n",
    "n=sorted(n,reverse=True)\n",
    "print(\"List:\",n)\n",
    "print(\"Second largest element:\",n[1:2])"
   ]
  },
  {
   "attachments": {},
   "cell_type": "markdown",
   "id": "00a2eb01",
   "metadata": {},
   "source": [
    "### Q.15) Write a python program to print all prime numbers in an interval?"
   ]
  },
  {
   "cell_type": "code",
   "execution_count": 70,
   "id": "579a0093",
   "metadata": {},
   "outputs": [
    {
     "name": "stdout",
     "output_type": "stream",
     "text": [
      "Prime numbers between 66 and 132 are:\n",
      "67\n",
      "71\n",
      "73\n",
      "79\n",
      "83\n",
      "89\n",
      "97\n",
      "101\n",
      "103\n",
      "107\n",
      "109\n",
      "113\n",
      "127\n",
      "131\n"
     ]
    }
   ],
   "source": [
    "import random as rn\n",
    "a=rn.randrange(0,101)\n",
    "b=rn.randrange(a,201)\n",
    "print(\"Prime numbers between\",a,\"and\",b,\"are:\")\n",
    "for i in range(a,b+1):\n",
    "    c=0\n",
    "    if (i<2):\n",
    "        print(i)\n",
    "    for j in range (2,i):\n",
    "        if (i%j==0):\n",
    "            c+=1\n",
    "            break\n",
    "    if (c==0):\n",
    "        print(i)"
   ]
  },
  {
   "attachments": {},
   "cell_type": "markdown",
   "id": "24ddc06c",
   "metadata": {},
   "source": [
    "### Q.16) Write a python program to check Armstrong Number?"
   ]
  },
  {
   "cell_type": "code",
   "execution_count": 71,
   "id": "a7ae5071",
   "metadata": {},
   "outputs": [
    {
     "name": "stdout",
     "output_type": "stream",
     "text": [
      "Number: 849\n",
      "The number is Not an Armstrong number\n"
     ]
    }
   ],
   "source": [
    "#check whether armstrong number or not\n",
    "import random as rn\n",
    "n=rn.randrange(0,1001)\n",
    "print(\"Number:\",n)\n",
    "s=0\n",
    "for i in range(0,len(str(n))):\n",
    "    s=s+int(str(n)[i])**len(str(n))\n",
    "if (s==n):\n",
    "    print(\"The number is an Armstrong number\")\n",
    "else:\n",
    "    print(\"The number is Not an Armstrong number\")\n",
    "    "
   ]
  },
  {
   "attachments": {},
   "cell_type": "markdown",
   "id": "f80b1187",
   "metadata": {},
   "source": [
    "### Q.17) Write a python program to count the number of characters in a string ?"
   ]
  },
  {
   "cell_type": "code",
   "execution_count": 73,
   "id": "af76eaac",
   "metadata": {},
   "outputs": [
    {
     "name": "stdout",
     "output_type": "stream",
     "text": [
      "string: hello there\n",
      "length: 11\n"
     ]
    }
   ],
   "source": [
    "s=input(\"Enter string: \")\n",
    "print(f'string: {s}\\nlength: {len(s)}')"
   ]
  },
  {
   "attachments": {},
   "cell_type": "markdown",
   "id": "57815ce2",
   "metadata": {},
   "source": [
    "### Q.18) Write a python program to check if two strings are anagrams of each other ?\n"
   ]
  },
  {
   "cell_type": "code",
   "execution_count": 75,
   "id": "49c66e1f",
   "metadata": {},
   "outputs": [
    {
     "name": "stdout",
     "output_type": "stream",
     "text": [
      "Strings: silent , listenn\n",
      "Strings are Not Anagrams\n"
     ]
    }
   ],
   "source": [
    "s1=input(\"Enter string1:\")\n",
    "s2=input(\"Enter string2:\")\n",
    "print(\"Strings:\",s1,\",\",s2)\n",
    "if(len(s1)!=len(s2)):\n",
    "    print(\"Strings are Not Anagrams\")\n",
    "else:\n",
    "    s1=list(s1.lower()).sort()\n",
    "    s2=list(s2.lower()).sort()\n",
    "    if (s1==s2):\n",
    "        print(\"Strings are Anagrams\")\n",
    "    else:\n",
    "        print(\"Strings are Not Anagrams\")"
   ]
  },
  {
   "attachments": {},
   "cell_type": "markdown",
   "id": "ace5ef05",
   "metadata": {},
   "source": [
    "### Q.19) Write a python program to create a dictionary from two lists ?"
   ]
  },
  {
   "cell_type": "code",
   "execution_count": 77,
   "id": "4801495d",
   "metadata": {},
   "outputs": [
    {
     "name": "stdout",
     "output_type": "stream",
     "text": [
      "Dictionary: {'1': 'tiya', '2': 'sha', '3': 'mallick'}\n",
      "keys:['1', '2', '3']\n",
      "values:['tiya', 'sha', 'mallick'])\n"
     ]
    }
   ],
   "source": [
    "d={}\n",
    "n=int(input(\"Enter number of elements:\"))\n",
    "for i in range(0,n):\n",
    "    k=input(\"Enter key:\")\n",
    "    v=input(\"Enter value:\")\n",
    "    d[k]=v\n",
    "print(\"Dictionary:\",d)\n",
    "l1=list(d.keys())\n",
    "l2=list(d.values())\n",
    "print(f'keys:{l1}\\nvalues:{l2})')"
   ]
  },
  {
   "attachments": {},
   "cell_type": "markdown",
   "id": "20e60c90",
   "metadata": {},
   "source": [
    "### Q.20) Write a python program to find the largest and smallest elements in a list ?"
   ]
  },
  {
   "cell_type": "code",
   "execution_count": 78,
   "id": "e72e7056",
   "metadata": {},
   "outputs": [
    {
     "name": "stdout",
     "output_type": "stream",
     "text": [
      "List: [67, 84, 16]\n",
      "largest: 16, smallest: 84\n"
     ]
    }
   ],
   "source": [
    "import random as rn\n",
    "n=[]\n",
    "for i in range(0,rn.randrange(3,11)):\n",
    "    n.append(rn.randrange(1,101))\n",
    "print(\"List:\",n)\n",
    "n=sorted(n)\n",
    "print(f'largest: {n[0]}, smallest: {n[-1]}')"
   ]
  },
  {
   "attachments": {},
   "cell_type": "markdown",
   "id": "9776df4f",
   "metadata": {},
   "source": [
    "### Q.21) Write a python program to count the frequency of each character in a string using a dictionary ?"
   ]
  },
  {
   "cell_type": "code",
   "execution_count": 79,
   "id": "67b76557",
   "metadata": {},
   "outputs": [
    {
     "name": "stdout",
     "output_type": "stream",
     "text": [
      "String: hiiiiiiiiiiiiiiiii brrrrrrooooooooooooo how are youuuu thereeeee\n",
      "Frequency: {'h': 3, 'i': 17, 'b': 1, 'r': 8, 'o': 15, 'w': 1, 'a': 1, 'e': 7, 'y': 1, 'u': 4, 't': 1}\n"
     ]
    }
   ],
   "source": [
    "s=input(\"Enter string:\")\n",
    "print(\"String:\",s)\n",
    "d={}\n",
    "for i in s:\n",
    "    if(i==\" \"):\n",
    "        continue\n",
    "    d[i]=s.count(i)\n",
    "print(\"Frequency:\",d)"
   ]
  },
  {
   "attachments": {},
   "cell_type": "markdown",
   "id": "2b4ddfe3",
   "metadata": {},
   "source": [
    "### Q.22) Write a python program to find the union of two sets ?"
   ]
  },
  {
   "cell_type": "code",
   "execution_count": 81,
   "id": "1d8ee519",
   "metadata": {},
   "outputs": [
    {
     "name": "stdout",
     "output_type": "stream",
     "text": [
      "Set 1: {77, 53, 30}\n",
      "Set 2: {193, 149, 133}\n",
      "Union: [30, 53, 77, 133, 149, 193]\n"
     ]
    }
   ],
   "source": [
    "import random as rn\n",
    "n=rn.randrange(1,11)\n",
    "s1,s2=set(),set()\n",
    "for i in range(0,n):\n",
    "    s1.add(rn.randrange(1,101))\n",
    "    s2.add(rn.randrange(101,201))\n",
    "print(f'Set 1: {s1}\\nSet 2: {s2}')\n",
    "print(f'Union: {sorted(s1.union(s2))}')"
   ]
  },
  {
   "attachments": {},
   "cell_type": "markdown",
   "id": "20248074",
   "metadata": {},
   "source": [
    "### Q.23) Write a program to find the GCD of two numbers?"
   ]
  },
  {
   "cell_type": "code",
   "execution_count": 82,
   "id": "a638a10c",
   "metadata": {},
   "outputs": [
    {
     "name": "stdout",
     "output_type": "stream",
     "text": [
      "Numbers:  915 725\n",
      "Greatest Common Divisor: 5\n"
     ]
    }
   ],
   "source": [
    "import random as rn\n",
    "n1=rn.randrange(0,1001)\n",
    "n2=rn.randrange(0,1001)\n",
    "print(\"Numbers: \",n1,n2)\n",
    "m=min(n1,n2)\n",
    "gcd=1\n",
    "for i in range(1,m+1):\n",
    "    if (n1%i==0 and n2%i==0):\n",
    "        gcd=i\n",
    "print(\"Greatest Common Divisor:\",gcd)"
   ]
  },
  {
   "attachments": {},
   "cell_type": "markdown",
   "id": "2d09fdc9",
   "metadata": {},
   "source": [
    "### Q.24) Write a python program to generate the Fibonacci sequence up to a certain number?"
   ]
  },
  {
   "cell_type": "code",
   "execution_count": 84,
   "id": "e28fed6c",
   "metadata": {},
   "outputs": [
    {
     "name": "stdout",
     "output_type": "stream",
     "text": [
      "Limit: 10\n",
      "Fiboncci Series:\n",
      "0\n",
      "1\n",
      "1\n",
      "2\n",
      "3\n",
      "5\n",
      "8\n",
      "13\n",
      "21\n",
      "34\n"
     ]
    }
   ],
   "source": [
    "import random as rn\n",
    "n=rn.randrange(0,11)\n",
    "print(\"Limit:\",n)\n",
    "print(\"Fiboncci Series:\")\n",
    "a,b=0,1\n",
    "c=0\n",
    "print(a)\n",
    "print(b)\n",
    "for i in range(2,n):\n",
    "    c=a+b\n",
    "    a=b\n",
    "    b=c\n",
    "    print(c)"
   ]
  },
  {
   "attachments": {},
   "cell_type": "markdown",
   "id": "7385423a",
   "metadata": {},
   "source": [
    "### Q.25) Write a python program to check if a year is leap year or not?"
   ]
  },
  {
   "cell_type": "code",
   "execution_count": 85,
   "id": "9f74d923",
   "metadata": {},
   "outputs": [
    {
     "name": "stdout",
     "output_type": "stream",
     "text": [
      "Year: 639\n",
      "The year is Not a leap year\n"
     ]
    }
   ],
   "source": [
    "import random as rn\n",
    "n=rn.randrange(0,3000)\n",
    "print(\"Year:\",n)\n",
    "if (n%4==0):\n",
    "    print(\"The year is a Leap year\")\n",
    "else:\n",
    "    print(\"The year is Not a leap year\")"
   ]
  },
  {
   "attachments": {},
   "cell_type": "markdown",
   "id": "8c162194",
   "metadata": {},
   "source": [
    "### Q.26) Write a python program to find the sum of two numbers using a lambda function?"
   ]
  },
  {
   "cell_type": "code",
   "execution_count": 86,
   "id": "7aff5881",
   "metadata": {},
   "outputs": [
    {
     "name": "stdout",
     "output_type": "stream",
     "text": [
      "Numbers: 91 35\n",
      "Sum: 126\n"
     ]
    }
   ],
   "source": [
    "import random as rn\n",
    "n1=rn.randrange(0,101)\n",
    "n2=rn.randrange(0,101)\n",
    "print(\"Numbers:\",n1,n2)\n",
    "print(f\"Sum: {(lambda x,y:x+y)(n1,n2)}\")"
   ]
  },
  {
   "attachments": {},
   "cell_type": "markdown",
   "id": "321f51d8",
   "metadata": {},
   "source": [
    "### Q.27) Write a python program to convert a list of strings to uppercase using a lambda function?\n"
   ]
  },
  {
   "cell_type": "code",
   "execution_count": 89,
   "id": "e9afa0d9",
   "metadata": {},
   "outputs": [
    {
     "name": "stdout",
     "output_type": "stream",
     "text": [
      "String: tiyasha\n",
      "upper case: TIYASHA\n"
     ]
    }
   ],
   "source": [
    "s=input(\"Enter string: \")\n",
    "print(f'String: {s}\\nupper case: {(lambda x:x.upper())(s)}')"
   ]
  },
  {
   "attachments": {},
   "cell_type": "markdown",
   "id": "09357e2f",
   "metadata": {},
   "source": [
    "### Q.28) Write a python program to find the square of each number in a list using a lambda function?\n"
   ]
  },
  {
   "cell_type": "code",
   "execution_count": 87,
   "id": "7b9fa9b8",
   "metadata": {},
   "outputs": [
    {
     "name": "stdout",
     "output_type": "stream",
     "text": [
      "list: [95, 31, 57, 65, 48, 34, 8]\n",
      "squared: [9025, 961, 3249, 4225, 2304, 1156, 64]\n"
     ]
    }
   ],
   "source": [
    "import random as rn\n",
    "n=[]\n",
    "for i in range(0,rn.randrange(3,11)):\n",
    "    n.append(rn.randrange(1,101))\n",
    "print(f'list: {n}\\nsquared: {(lambda x:[i**2 for i in x])(n)}')"
   ]
  },
  {
   "attachments": {},
   "cell_type": "markdown",
   "id": "550239bb",
   "metadata": {},
   "source": [
    "### Q.29)Write a python program to find the sum of two lists using a lambda function?"
   ]
  },
  {
   "cell_type": "code",
   "execution_count": 88,
   "id": "857ceb33",
   "metadata": {},
   "outputs": [
    {
     "name": "stdout",
     "output_type": "stream",
     "text": [
      "List 1: [34, 37, 40, 79, 63, 76, 27, 89, 84, 92, 97, 0, 66, 96, 3, 99, 46, 12, 80, 52, 11, 58]\n",
      "List 2: [65, 11, 65, 57, 52, 88, 0, 58, 66, 44, 44, 70, 44, 40, 7, 94, 35, 40, 84, 81, 79, 69]\n",
      "sum: [99, 48, 105, 136, 115, 164, 27, 147, 150, 136, 141, 70, 110, 136, 10, 193, 81, 52, 164, 133, 90, 127]\n"
     ]
    }
   ],
   "source": [
    "import random as rn\n",
    "n=rn.randrange(0,101)\n",
    "n1=[]\n",
    "n2=[]\n",
    "for i in range(0,n):\n",
    "    n1.append(rn.randrange(0,101))\n",
    "    n2.append(rn.randrange(0,101))\n",
    "print(f'List 1: {n1}\\nList 2: {n2}\\nsum: {(lambda x,y:[x[i]+y[i] for i in range(len(x))])(n1,n2)}')"
   ]
  },
  {
   "attachments": {},
   "cell_type": "markdown",
   "id": "3f492c63",
   "metadata": {},
   "source": [
    "### Q.30) Write a python program to swap two numbers?"
   ]
  },
  {
   "cell_type": "code",
   "execution_count": 90,
   "id": "c919ce53",
   "metadata": {},
   "outputs": [
    {
     "name": "stdout",
     "output_type": "stream",
     "text": [
      "Numbers: (48, 26)\n",
      "swapped numbers: (26, 48)\n"
     ]
    }
   ],
   "source": [
    "import random as rn\n",
    "n1=rn.randrange(0,101)\n",
    "n2=rn.randrange(0,101)\n",
    "print(f'Numbers: {n1,n2}')\n",
    "n2,n1=n1,n2\n",
    "print(f'swapped numbers: {n1,n2}')"
   ]
  },
  {
   "attachments": {},
   "cell_type": "markdown",
   "id": "c45603fe",
   "metadata": {},
   "source": [
    "### Q.31) Write a python program to find the area of a triangle?"
   ]
  },
  {
   "cell_type": "code",
   "execution_count": 92,
   "id": "faa84ce5",
   "metadata": {},
   "outputs": [
    {
     "name": "stdout",
     "output_type": "stream",
     "text": [
      "Triangle base and height: (12, 82)\n",
      "Area: 492 units\n"
     ]
    }
   ],
   "source": [
    "import random as rn\n",
    "b=rn.randrange(0,101)\n",
    "h=rn.randrange(0,101)\n",
    "print(f'Triangle base and height: {b,h}\\nArea: {round(0.5*b*h)} units')"
   ]
  },
  {
   "attachments": {},
   "cell_type": "markdown",
   "id": "60ccabc9",
   "metadata": {},
   "source": [
    "### Q.32) Write a python program to calculate the area of a circle?"
   ]
  },
  {
   "cell_type": "code",
   "execution_count": 93,
   "id": "9323ee6b",
   "metadata": {},
   "outputs": [
    {
     "name": "stdout",
     "output_type": "stream",
     "text": [
      "Circle radius: 70\n",
      "Area: 15386 units\n"
     ]
    }
   ],
   "source": [
    "import random as rn\n",
    "r=rn.randrange(0,101)\n",
    "print(f'Circle radius: {r}\\nArea: {round(3.14*r**2)} units')"
   ]
  },
  {
   "attachments": {},
   "cell_type": "markdown",
   "id": "64a44df1",
   "metadata": {},
   "source": [
    "### Q.33) Write a python program to count the number of occurrences of an element in a list?"
   ]
  },
  {
   "cell_type": "code",
   "execution_count": 99,
   "id": "766d145f",
   "metadata": {},
   "outputs": [
    {
     "name": "stdout",
     "output_type": "stream",
     "text": [
      "List: [10, 46, 89, 86, 44, 15, 8, 85, 10]\n",
      "occurrence: [2, 1, 1, 1, 1, 1, 1, 1, 2]\n"
     ]
    }
   ],
   "source": [
    "import random as rn\n",
    "n = []\n",
    "for i in range(rn.randrange(3, 11)):\n",
    "    n.append(rn.randrange(1, 101))\n",
    "counts=[]\n",
    "for i in range(len(n)):\n",
    "    counts.append(n.count(n[i]))\n",
    "print(f'List: {n}\\noccurrence: {counts}')"
   ]
  },
  {
   "attachments": {},
   "cell_type": "markdown",
   "id": "f5ac7841",
   "metadata": {},
   "source": [
    "### Q.34) Write a python program to convert a decimal number to binary?"
   ]
  },
  {
   "cell_type": "code",
   "execution_count": 100,
   "id": "09bb78a6",
   "metadata": {},
   "outputs": [
    {
     "name": "stdout",
     "output_type": "stream",
     "text": [
      "Number: 32\n",
      "Binary: 000001\n"
     ]
    }
   ],
   "source": [
    "import random as rn\n",
    "n=rn.randrange(0,101)\n",
    "print(\"Number:\",n)\n",
    "d=\"\"\n",
    "while (n>0):\n",
    "    d+=str(n%2)\n",
    "    n=n//2\n",
    "print(\"Binary:\",d)"
   ]
  },
  {
   "attachments": {},
   "cell_type": "markdown",
   "id": "18eb0954",
   "metadata": {},
   "source": [
    "### Q.35) Write a python program to find the sum of all the digits in a number?\n"
   ]
  },
  {
   "cell_type": "code",
   "execution_count": 101,
   "id": "3574f2df",
   "metadata": {},
   "outputs": [
    {
     "name": "stdout",
     "output_type": "stream",
     "text": [
      "Number: 619\n",
      "Sum: 16\n"
     ]
    }
   ],
   "source": [
    "import random as rn\n",
    "n=rn.randrange(0,1001)\n",
    "n=str(n)\n",
    "sum=0\n",
    "for i in n:\n",
    "    sum+=int(i)\n",
    "print(f'Number: {n}\\nSum: {sum}')"
   ]
  },
  {
   "attachments": {},
   "cell_type": "markdown",
   "id": "5b69e28e",
   "metadata": {},
   "source": [
    "### Q.36) Write a python program to find the common elements between two lists?"
   ]
  },
  {
   "cell_type": "code",
   "execution_count": 102,
   "id": "574a1e33",
   "metadata": {},
   "outputs": [
    {
     "name": "stdout",
     "output_type": "stream",
     "text": [
      "List 1: [68, 29, 80, 96, 62, 14, 51, 32, 38, 12, 97, 81]\n",
      "List 2: [97, 42, 45, 68, 11, 66, 83, 35, 4, 87, 46, 12, 46, 82, 59, 35, 70, 77, 3, 78, 78, 67, 50, 53, 22, 21, 83, 62, 2, 54, 56, 33, 66, 71, 75, 5, 75, 71, 21, 76, 88, 24, 77, 12, 72, 27, 69, 11, 45, 13, 59, 95, 39, 81, 22, 91, 68, 53, 88, 32, 48, 17, 79, 12, 2, 63, 44, 16, 78, 88, 17, 40, 21, 5, 30, 46, 62, 73, 76, 21, 61, 24, 48, 99, 50, 68, 82, 21, 17, 68, 46, 24, 64, 78, 6, 58, 18]\n",
      "Common:\n",
      "68\n",
      "62\n",
      "32\n",
      "12\n",
      "97\n",
      "81\n"
     ]
    }
   ],
   "source": [
    "import random as rn\n",
    "n,m=rn.randrange(0,101),rn.randrange(0,101)\n",
    "n1,n2=[],[]\n",
    "for i in range(0,n):\n",
    "    n1.append(rn.randrange(0,101))\n",
    "for i in range(0,m):\n",
    "    n2.append(rn.randrange(0,101))\n",
    "print(f'List 1: {n1}\\nList 2: {n2}')\n",
    "print(\"Common:\")\n",
    "for i in range(n):\n",
    "    if (n1[i] in n2):\n",
    "        print(n1[i])"
   ]
  },
  {
   "attachments": {},
   "cell_type": "markdown",
   "id": "ba42f1ef",
   "metadata": {},
   "source": [
    "### Q.37) Write a python program to remove all the whitespaces from a string?\n"
   ]
  },
  {
   "cell_type": "code",
   "execution_count": 103,
   "id": "d87114ca",
   "metadata": {},
   "outputs": [
    {
     "name": "stdout",
     "output_type": "stream",
     "text": [
      "String: hey there how are you\n",
      "Without spaces: heytherehowareyou\n"
     ]
    }
   ],
   "source": [
    "s=input(\"Enter string:\")\n",
    "print(\"String:\",s)\n",
    "for i in s:\n",
    "    if (i==\" \"):\n",
    "        s=s.replace(i,\"\")\n",
    "print(\"Without spaces:\",s)"
   ]
  },
  {
   "attachments": {},
   "cell_type": "markdown",
   "id": "d8a98c44",
   "metadata": {},
   "source": [
    "### Q.38) Write a python program to make a simple calculator?\n",
    "\n",
    "#### Operations :- + , - , * , / , %\n"
   ]
  },
  {
   "cell_type": "code",
   "execution_count": 104,
   "id": "b4eef13b",
   "metadata": {},
   "outputs": [
    {
     "name": "stdout",
     "output_type": "stream",
     "text": [
      "Numbers: 491 915\n",
      "Sum: 1406\n",
      "Wanna continue?(y/n)\n",
      "Difference: -424\n",
      "Wanna continue?(y/n)\n",
      "Product: 449265\n",
      "Wanna continue?(y/n)\n",
      "Quotient: 0.5366120218579234\n",
      "Wanna continue?(y/n)\n",
      "Remainder: 491\n",
      "Wanna continue?(y/n)\n"
     ]
    }
   ],
   "source": [
    "import random as rn\n",
    "n1=rn.randrange(0,1001)\n",
    "n2=rn.randrange(0,1001)\n",
    "print(\"Numbers:\",n1,n2)\n",
    "s=int(input(\"1: + , 2: - , 3: * , 4: / , 5: %\"))\n",
    "while True:\n",
    "    if (s==1):\n",
    "        print(\"Sum:\",n1+n2)\n",
    "    elif (s==2):\n",
    "        print(\"Difference:\",n1-n2)\n",
    "    elif (s==3):\n",
    "        print(\"Product:\",n1*n2)\n",
    "    elif (s==4):\n",
    "        print(\"Quotient:\",n1/n2)\n",
    "    elif (s==5):\n",
    "        print(\"Remainder:\",n1%n2)\n",
    "    else:\n",
    "        print(\"Invalid input\")\n",
    "    print(\"Wanna continue?(y/n)\")\n",
    "    ans=input()\n",
    "    if (ans==\"n\"):\n",
    "        break\n",
    "    else:\n",
    "        s=int(input(\"1: + , 2: - , 3: * , 4: / , 5: %\"))"
   ]
  },
  {
   "attachments": {},
   "cell_type": "markdown",
   "id": "2ee1dfa4",
   "metadata": {},
   "source": [
    "### Q.39) Write a python program to add two matrix?"
   ]
  },
  {
   "cell_type": "code",
   "execution_count": 105,
   "id": "01de7633",
   "metadata": {},
   "outputs": [
    {
     "name": "stdout",
     "output_type": "stream",
     "text": [
      "Matrix 1:\n",
      "[5, 5, 2, 2, 3]\n",
      "[8, 8, 2, 9, 7]\n",
      "[4, 8, 8, 3, 3]\n",
      "Matrix 2:\n",
      "[10, 6, 9, 1, 4]\n",
      "[10, 1, 10, 9, 8]\n",
      "[7, 10, 1, 7, 1]\n",
      "Sum:\n",
      "[15, 11, 11, 3, 7]\n",
      "[18, 9, 12, 18, 15]\n",
      "[11, 18, 9, 10, 4]\n"
     ]
    }
   ],
   "source": [
    "import random as rn\n",
    "n,m=rn.randrange(3,11),rn.randrange(3,11)\n",
    "n1,n2,s=[],[],[]\n",
    "for i in range(n):\n",
    "    r = []\n",
    "    for j in range(m):\n",
    "        r.append(rn.randrange(0,11))\n",
    "    n1.append(r)\n",
    "for i in range(n):\n",
    "    r = []\n",
    "    for j in range(m):\n",
    "        r.append(rn.randrange(0,11))\n",
    "    n2.append(r)\n",
    "print(\"Matrix 1:\")\n",
    "for i in n1:\n",
    "    print(i)\n",
    "print(\"Matrix 2:\")\n",
    "for i in n2:\n",
    "    print(i)\n",
    "print(\"Sum:\")\n",
    "for i in range(n):\n",
    "    r = []\n",
    "    for j in range(m):\n",
    "        r.append(n1[i][j]+n2[i][j])\n",
    "    s.append(r)\n",
    "for i in s:\n",
    "    print(i)"
   ]
  },
  {
   "attachments": {},
   "cell_type": "markdown",
   "id": "f3fdefc3",
   "metadata": {},
   "source": [
    "### Q.40) Write a python program to merge two dictionaries? "
   ]
  },
  {
   "cell_type": "code",
   "execution_count": 107,
   "id": "1b503d91",
   "metadata": {},
   "outputs": [
    {
     "name": "stdout",
     "output_type": "stream",
     "text": [
      "Dictionary 1: {46: 79, 61: 78, 34: 64, 86: 83, 60: 13, 38: 46, 84: 32}\n",
      "Dictionary 2: {91: 27, 65: 56, 89: 1, 83: 0}\n",
      "Merged Dictionary: {46: 79, 61: 78, 34: 64, 86: 83, 60: 13, 38: 46, 84: 32, 91: 27, 65: 56, 89: 1, 83: 0}\n"
     ]
    }
   ],
   "source": [
    "import random as rn\n",
    "n=rn.randrange(0,11)\n",
    "m=rn.randrange(0,11)\n",
    "d1={}\n",
    "d2={}\n",
    "for i in range(n):\n",
    "    j=rn.randrange(0,101)\n",
    "    d1[j]=rn.randrange(0,101)\n",
    "for i in range(m):\n",
    "    j=rn.randrange(0,101)\n",
    "    d2[j]=rn.randrange(0,101)\n",
    "print(\"Dictionary 1:\",d1)\n",
    "print(\"Dictionary 2:\",d2)\n",
    "d={**d1,**d2}\n",
    "print(\"Merged Dictionary:\",d)"
   ]
  },
  {
   "attachments": {},
   "cell_type": "markdown",
   "id": "8b965746",
   "metadata": {},
   "source": [
    "### Q.41) Write a python program to compute all the permutation of a string?"
   ]
  },
  {
   "cell_type": "code",
   "execution_count": 108,
   "id": "74240510",
   "metadata": {},
   "outputs": [
    {
     "name": "stdout",
     "output_type": "stream",
     "text": [
      "All permutations:\n",
      "tiya\n",
      "tiay\n",
      "tyia\n",
      "tyai\n",
      "taiy\n",
      "tayi\n",
      "itya\n",
      "itay\n",
      "iyta\n",
      "iyat\n",
      "iaty\n",
      "iayt\n",
      "ytia\n",
      "ytai\n",
      "yita\n",
      "yiat\n",
      "yati\n",
      "yait\n",
      "atiy\n",
      "atyi\n",
      "aity\n",
      "aiyt\n",
      "ayti\n",
      "ayit\n"
     ]
    }
   ],
   "source": [
    "def perm(s):\n",
    "    def bt(cp, rc):\n",
    "        if len(rc) == 0:\n",
    "            p.append(cp)\n",
    "            return\n",
    "        for i in range(len(rc)):\n",
    "            np = cp + rc[i]\n",
    "            nc = rc[:i] + rc[i+1:]\n",
    "            bt(np, nc)\n",
    "    c = list(s)\n",
    "    p = []\n",
    "    bt(\"\", c)\n",
    "    return p\n",
    "input_s = input(\"Enter a string: \")\n",
    "p = perm(input_s)\n",
    "print(\"All permutations:\")\n",
    "for perm in p:\n",
    "    print(perm)\n"
   ]
  },
  {
   "attachments": {},
   "cell_type": "markdown",
   "id": "dd66e5cd",
   "metadata": {},
   "source": [
    "### Q.42) Write a python program to convert Kilometres to Miles using function?"
   ]
  },
  {
   "cell_type": "code",
   "execution_count": 110,
   "id": "b635dccb",
   "metadata": {},
   "outputs": [
    {
     "name": "stdout",
     "output_type": "stream",
     "text": [
      "in kilometers: 129 km\n",
      "in miles: 80.156859 miles\n"
     ]
    }
   ],
   "source": [
    "def convert(k):\n",
    "    m = k * 0.621371\n",
    "    print(f'in kilometers: {k} km\\nin miles: {m} miles')\n",
    "\n",
    "import random as rn\n",
    "n=rn.randrange(1,1001)\n",
    "convert(n)"
   ]
  },
  {
   "attachments": {},
   "cell_type": "markdown",
   "id": "6bb9a877",
   "metadata": {},
   "source": [
    "### Q.43) Write a python program to to convert Celsius To Fahrenheit using function?"
   ]
  },
  {
   "cell_type": "code",
   "execution_count": 30,
   "id": "4012b772",
   "metadata": {},
   "outputs": [
    {
     "name": "stdout",
     "output_type": "stream",
     "text": [
      "Celsius: 97 C\n",
      "Fahrenheit: 206.6 F\n"
     ]
    }
   ],
   "source": [
    "def convert(c):\n",
    "    f=(c * 9/5) + 32\n",
    "    print(f'Celsius: {c} C\\nFahrenheit: {f} F')\n",
    "\n",
    "import random as rn\n",
    "n=rn.randrange(1,101)\n",
    "convert(n)"
   ]
  },
  {
   "attachments": {},
   "cell_type": "markdown",
   "id": "23481bcb",
   "metadata": {},
   "source": [
    "### Q.45) Write a python program to find the sum of all odd numbers in a list?"
   ]
  },
  {
   "cell_type": "code",
   "execution_count": 111,
   "id": "ecd46d7c",
   "metadata": {},
   "outputs": [
    {
     "name": "stdout",
     "output_type": "stream",
     "text": [
      "List: [79, 88, 67, 65, 51, 28, 24, 65]\n",
      "Sum: 327\n"
     ]
    }
   ],
   "source": [
    "import random as rn\n",
    "n = []\n",
    "for i in range(rn.randrange(3, 11)):\n",
    "    n.append(rn.randrange(1, 101))\n",
    "print(\"List:\",n)\n",
    "s=0\n",
    "for i in n:\n",
    "    if (i%2!=0):\n",
    "        s+=i\n",
    "print(\"Sum:\",s)"
   ]
  },
  {
   "attachments": {},
   "cell_type": "markdown",
   "id": "8b7030ec",
   "metadata": {},
   "source": [
    "### Q.46) Write a python program to check if a number is palindrome or not?"
   ]
  },
  {
   "cell_type": "code",
   "execution_count": 115,
   "id": "131ce1eb",
   "metadata": {},
   "outputs": [
    {
     "name": "stdout",
     "output_type": "stream",
     "text": [
      "Number: 797\n",
      "797 is palindrome\n"
     ]
    }
   ],
   "source": [
    "import random as rn\n",
    "n=rn.randrange(1,1001)\n",
    "print(\"Number:\",n)\n",
    "if(str(n)==str(n)[::-1]):\n",
    "    print(f'{n} is palindrome')\n",
    "else:\n",
    "    print(f'{n} is not palindrome')"
   ]
  },
  {
   "attachments": {},
   "cell_type": "markdown",
   "id": "ecf804f8",
   "metadata": {},
   "source": [
    "### Q.47) Write a python program to find the minimum element in a list using built-in function?"
   ]
  },
  {
   "cell_type": "code",
   "execution_count": 116,
   "id": "aa1d46b4",
   "metadata": {},
   "outputs": [
    {
     "name": "stdout",
     "output_type": "stream",
     "text": [
      "List: [10, 36, 41, 89]\n",
      "Minimum element: 10\n"
     ]
    }
   ],
   "source": [
    "import random as rn\n",
    "n = []\n",
    "for i in range(rn.randrange(3, 11)):\n",
    "    n.append(rn.randrange(1, 101))\n",
    "print(f'List: {n}\\nMinimum element: {min(n)}')"
   ]
  },
  {
   "attachments": {},
   "cell_type": "markdown",
   "id": "e0ca7780",
   "metadata": {},
   "source": [
    "### Q.47) Write a python program to convert a string to lowercase using built-in function?"
   ]
  },
  {
   "cell_type": "code",
   "execution_count": 117,
   "id": "cf809389",
   "metadata": {},
   "outputs": [
    {
     "name": "stdout",
     "output_type": "stream",
     "text": [
      "String: TIYASHA\n",
      "Lowered: tiyasha\n"
     ]
    }
   ],
   "source": [
    "s=input(\"Enter string:\")\n",
    "print(\"String:\",s)\n",
    "print(\"Lowered:\",s.lower())"
   ]
  },
  {
   "attachments": {},
   "cell_type": "markdown",
   "id": "0d0437a1",
   "metadata": {},
   "source": [
    "### Q.48) Write a python program to sort a list of numbers in ascending order?"
   ]
  },
  {
   "cell_type": "code",
   "execution_count": 119,
   "id": "9e381fde",
   "metadata": {},
   "outputs": [
    {
     "name": "stdout",
     "output_type": "stream",
     "text": [
      "List: [79, 57, 26]\n",
      "Sorted: [26, 57, 79]\n"
     ]
    }
   ],
   "source": [
    "import random as rn\n",
    "n = []\n",
    "for i in range(rn.randrange(3, 11)):\n",
    "    n.append(rn.randrange(1, 101))\n",
    "m=sorted(n)\n",
    "print(f'List: {n}\\nSorted: {m}')"
   ]
  },
  {
   "attachments": {},
   "cell_type": "markdown",
   "id": "0ffd872e",
   "metadata": {},
   "source": [
    "### Q.49) Write a python program to display the multiplication Table?"
   ]
  },
  {
   "cell_type": "code",
   "execution_count": 280,
   "id": "dc87b507",
   "metadata": {},
   "outputs": [
    {
     "name": "stdout",
     "output_type": "stream",
     "text": [
      "Multiplication table of 4\n",
      "4 x 1 = 4\n",
      "4 x 2 = 8\n",
      "4 x 3 = 12\n",
      "4 x 4 = 16\n",
      "4 x 5 = 20\n",
      "4 x 6 = 24\n",
      "4 x 7 = 28\n",
      "4 x 8 = 32\n",
      "4 x 9 = 36\n",
      "4 x 10 = 40\n"
     ]
    }
   ],
   "source": [
    "import random as rn\n",
    "n=rn.randrange(1,21)\n",
    "print(\"Multiplication table of\",n)\n",
    "for i in range(1,11):\n",
    "    print(n,\"x\",i,\"=\",n*i)"
   ]
  },
  {
   "attachments": {},
   "cell_type": "markdown",
   "id": "269ef7f4",
   "metadata": {},
   "source": [
    "### Q.50) Write a python program to Find the factors of a number?"
   ]
  },
  {
   "cell_type": "code",
   "execution_count": 120,
   "id": "568cbe94",
   "metadata": {},
   "outputs": [
    {
     "name": "stdout",
     "output_type": "stream",
     "text": [
      "Number: 294\n",
      "Factors:\n",
      "1\n",
      "2\n",
      "3\n",
      "6\n",
      "7\n",
      "14\n",
      "21\n",
      "42\n",
      "49\n",
      "98\n",
      "147\n",
      "294\n"
     ]
    }
   ],
   "source": [
    "import random as rn\n",
    "n=rn.randrange(1,1001)\n",
    "print(f'Number: {n}\\nFactors:')\n",
    "for i in range(1,n+1):\n",
    "    if (n%i==0):\n",
    "        print(i)"
   ]
  }
 ],
 "metadata": {
  "kernelspec": {
   "display_name": "Python 3 (ipykernel)",
   "language": "python",
   "name": "python3"
  },
  "language_info": {
   "codemirror_mode": {
    "name": "ipython",
    "version": 3
   },
   "file_extension": ".py",
   "mimetype": "text/x-python",
   "name": "python",
   "nbconvert_exporter": "python",
   "pygments_lexer": "ipython3",
   "version": "3.10.11"
  }
 },
 "nbformat": 4,
 "nbformat_minor": 5
}
